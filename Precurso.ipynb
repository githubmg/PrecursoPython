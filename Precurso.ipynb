{
 "cells": [
  {
   "cell_type": "markdown",
   "metadata": {},
   "source": [
    "# Ejecutando Python 3\n",
    "\n",
    "Python es un lenguaje interpretado, a diferencia de los lenguajes compilados, no es necesario traducir las instrucciones a código máquina (1s y 0s).\n",
    "\n",
    "Para poder ejecutar el código escrito en python es necesario pasar las instrucciones a un intérprete, en nuestros cursos vamos a utilizar un entorno de programación llamado jupyter-notebook, una aplicación web que se ejecuta de forma local y en donde se puede presentar texto (como éste!) y que ofrece la posibilidad de ejecutar código.\n",
    "\n",
    "El formato de entrada para nuestro código es una celda, esta celda comienza con In[n°], y para ejecutar las instrucciones que escribimos solo basta con pulsar Shift+Enter mientras estamos en la celda."
   ]
  },
  {
   "cell_type": "markdown",
   "metadata": {},
   "source": [
    "### La función 'print'\n",
    "\n",
    "Podemos usar esta función para ver los valores que toma una expresión o alguna variable, en este caso, vamos a darle como argumento un tipo de dato string."
   ]
  },
  {
   "cell_type": "code",
   "execution_count": null,
   "metadata": {},
   "outputs": [],
   "source": [
    "print('Hola mundo!')"
   ]
  },
  {
   "cell_type": "markdown",
   "metadata": {},
   "source": [
    "Como se puede ver en esta ejecución, el resultado del código aparece inmediatamente bajo la celda donde se escriben las instrucciones."
   ]
  },
  {
   "cell_type": "markdown",
   "metadata": {},
   "source": [
    "## Tipos y estructuras de datos en Python 3.\n",
    "\n",
    "Para poder llevar a cabo nuestras implementaciones, es necesario conocer las propiedades de los datos que vamos a utilizar y las operaciones que se pueden realizar con ellos, podría parecer trivial, sin embargo, existen diferencias importantes en los resultados con éstas.\n",
    "\n",
    "A continuación un ejemplo en donde nos podrían importar los tipos de datos:"
   ]
  },
  {
   "cell_type": "code",
   "execution_count": null,
   "metadata": {},
   "outputs": [],
   "source": [
    "# suma de dos datos tipo int. \n",
    "print( 20 + 20 )"
   ]
  },
  {
   "cell_type": "code",
   "execution_count": null,
   "metadata": {},
   "outputs": [],
   "source": [
    "# concatenacion de dos datos tipo strings.\n",
    "print('20'+'20')"
   ]
  },
  {
   "cell_type": "markdown",
   "metadata": {},
   "source": [
    "En el primer caso, se puede observar el resultado de una operación aritmética, mientras que en el último se realizó una operación de concatenación sobre grupos de caracteres... ** los tipos de datos tienen operaciones asociadas que pueden responder de distinta manera según sus definiciones.**"
   ]
  },
  {
   "cell_type": "markdown",
   "metadata": {},
   "source": [
    "### Tipos y estructura de datos: enteros (en python 'int'), reales ('float') y complejos ('complex').\n",
    "\n",
    "A continuación se presentan tipos de datos númericos y algunas operaciones de ejemplo.\n",
    "\n",
    "*Nota: con ```type```, entre otras cosas, podemos conocer los tipos de datos.*"
   ]
  },
  {
   "cell_type": "code",
   "execution_count": null,
   "metadata": {},
   "outputs": [],
   "source": [
    "print('El número 3    es:', type(3))\n",
    "\n",
    "print('El número 3.14 es:', type(3.14159))\n",
    "\n",
    "print('El número 3+2j es:', type(complex(3+2j)))\n"
   ]
  },
  {
   "cell_type": "markdown",
   "metadata": {},
   "source": [
    "Algunas operaciones numéricas de caracter aritméticos pueden ser:"
   ]
  },
  {
   "cell_type": "code",
   "execution_count": null,
   "metadata": {
    "collapsed": true
   },
   "outputs": [],
   "source": [
    "# suma de dos enteros\n",
    "print(45 + 55)"
   ]
  },
  {
   "cell_type": "code",
   "execution_count": null,
   "metadata": {
    "collapsed": true
   },
   "outputs": [],
   "source": [
    "# resta\n",
    "print(50 - 100)"
   ]
  },
  {
   "cell_type": "code",
   "execution_count": null,
   "metadata": {
    "collapsed": true
   },
   "outputs": [],
   "source": [
    "# division \n",
    "\n",
    "print(6/12)"
   ]
  },
  {
   "cell_type": "code",
   "execution_count": null,
   "metadata": {
    "collapsed": true
   },
   "outputs": [],
   "source": [
    "# division entera\n",
    "print(6//12)"
   ]
  },
  {
   "cell_type": "code",
   "execution_count": null,
   "metadata": {
    "collapsed": true
   },
   "outputs": [],
   "source": [
    "# multiplicación\n",
    "print(3 * 5)"
   ]
  },
  {
   "cell_type": "code",
   "execution_count": null,
   "metadata": {
    "collapsed": true
   },
   "outputs": [],
   "source": [
    "# potenciación\n",
    "print(3 ** 5)"
   ]
  },
  {
   "cell_type": "markdown",
   "metadata": {},
   "source": [
    "Para poder asignar números o resultados de operaciones a variables, se utiliza el operador (=), el nombre de la variable debe empezar por una letra, además ciertos caracteres no se pueden utilizar para definirlas, como los acentos o los espacios (invisibles) dentro del nombre."
   ]
  },
  {
   "cell_type": "markdown",
   "metadata": {},
   "source": [
    "#### Nota:\n",
    "*\n",
    "Podemos ver que la primera línea del primer ejemplo...*\n",
    "``` python\n",
    "#suma de dos enteros\n",
    "```\n",
    "*\n",
    "...es un comentario, los comentarios son útiles en el sentido que nos permiten hacer anotaciones en el lugar donde se realiza una tarea dentro del programa.*\n",
    "\n",
    "*\n",
    "Los comentarios no son tomados en cuenta como una instrucción, esto quiere decir que el intérprete de python no los ejecuta, como consecuencia solo tienen utilidad para las personas que ven las instrucciones.*\n",
    "\n",
    "*\n",
    "Para escribir un comentario se debe anteponer el símbolo numeral (#) al texto, el texto tiene que ser de una sola línea. *"
   ]
  },
  {
   "cell_type": "code",
   "execution_count": null,
   "metadata": {
    "collapsed": true
   },
   "outputs": [],
   "source": [
    "# asignamos el valor 4 a la variable num_1\n",
    "num_1 = 4\n",
    "\n",
    "# asignamos el valor 23 a la variable num_2\n",
    "num_2 = 23\n",
    "\n",
    "# asignamos el resultado de elevar num_1 a la num_2\n",
    "resultado_potenciacion = num_1 ** num_2\n",
    "\n",
    "# mostramos resultado\n",
    "print(resultado_potenciacion)"
   ]
  },
  {
   "cell_type": "markdown",
   "metadata": {},
   "source": [
    "En este último ejemplo se puede observar que una vez que asignamos las magnitudes numéricas a las variables, podemos operar con estas variables como si fueran un número."
   ]
  },
  {
   "cell_type": "markdown",
   "metadata": {},
   "source": [
    "#### ¿Como podríamos encontrar la raíz cuadrada de num1 (4), utilizando la operación de potenciación? Escribirlo en lenguaje python en la próxima celda y utilizar print para mostrar el resultado:"
   ]
  },
  {
   "cell_type": "code",
   "execution_count": null,
   "metadata": {
    "collapsed": true
   },
   "outputs": [],
   "source": [
    "num1 = 4"
   ]
  },
  {
   "cell_type": "markdown",
   "metadata": {},
   "source": [
    "**¿Que diferencia existe entre un dato int y uno float?, ¿es posible utilizar estos dos tipos de datos en una misma operación aritmética?, ¿Cual es el tipo de dato resultante?**"
   ]
  },
  {
   "cell_type": "code",
   "execution_count": null,
   "metadata": {
    "collapsed": true
   },
   "outputs": [],
   "source": [
    "my_int = 1\n",
    "my_float = 1.3\n",
    "\n",
    "#Escribir a continuación el código para responder a las preguntas propuestas\n",
    "\n",
    "\n"
   ]
  },
  {
   "cell_type": "markdown",
   "metadata": {},
   "source": [
    "### Tipos y estructura de datos: Texto (str).\n",
    "\n",
    "El tipo de dato texto es llamado ```string``` en python, se puede enuncia encerrando entre comillas (dobles o simples) un conjunto de caracteres. Durante el curso vamos a trabajar con varias operaciones sobre estos datos orientados a la matematización de los mismos."
   ]
  },
  {
   "cell_type": "markdown",
   "metadata": {},
   "source": [
    "Los string son iterables (se puede acceder por partes a ellos), cada caracter tiene una posición a la que es posible acceder mediante un índice. \n",
    "\n",
    "#### Índice\n",
    "Los índices son valores enteros que rn texto, señalan la posicion de un caracter dentro del string, se enuncian poniendo el valor  entero entre corchetes [] despues del string o de una variable que lo represente, los índices se cuentan desde cero."
   ]
  },
  {
   "cell_type": "code",
   "execution_count": null,
   "metadata": {
    "collapsed": true
   },
   "outputs": [],
   "source": [
    "# Definimos una variable de tipo string.\n",
    "text = 'Python3'\n",
    "\n",
    "# Accedemos a la primera y última posición de ese string.\n",
    "print(text[0], text[-1])"
   ]
  },
  {
   "cell_type": "markdown",
   "metadata": {},
   "source": [
    "#### Comentario.\n",
    "La función print puede tomar varios argumentos, entre esos argumentos se encuentran los elementos que van a hacer impresos en la salida estándar, en este último caso imprimimos el primer elemento del string text y el último.\n",
    "\n",
    "#### Sobre los índices negativos\n",
    "Cuando un índice es negativo, señala a un elemento desde el final, o sea el [-1] viene a ser el último elemento, el índice [-2] el penultimo, y así hasta el primer elemento del iterable.\n",
    "\n",
    "A continuación un ejemplo:"
   ]
  },
  {
   "cell_type": "code",
   "execution_count": null,
   "metadata": {
    "collapsed": true
   },
   "outputs": [],
   "source": [
    "# Definimos una variable de tipo string.\n",
    "text = 'Python3'\n",
    "\n",
    "# Accedemos al elemento 4 (Pyth(o)n3) desde índices positivos y negativos.\n",
    "print(text[4], text[-3])"
   ]
  },
  {
   "cell_type": "markdown",
   "metadata": {},
   "source": [
    "#### Slicing\n",
    "El slicing permite acceder a partes continuas del string con una notación parecida al de los índices, también requieren ser magnitudes enteras. Para hacer un slicing se deben dar los valores de índice entre corchetes, separados por dos puntos."
   ]
  },
  {
   "cell_type": "code",
   "execution_count": null,
   "metadata": {},
   "outputs": [],
   "source": [
    "# Definimos una variable de tipo string.\n",
    "text = '¿Python3 o R?'\n",
    "\n",
    "# Entre corchetes definimos el primer y último índice del sclicing.\n",
    "print(text[1:7])"
   ]
  },
  {
   "cell_type": "markdown",
   "metadata": {},
   "source": [
    "El primer índice señala al primer caracter de la primera palabra **que se incluye en el subtexto**, mientras que el último caracter no ... **éste último caracter no es incorporado.**"
   ]
  },
  {
   "cell_type": "code",
   "execution_count": null,
   "metadata": {},
   "outputs": [],
   "source": [
    "# Definimos una variable de tipo string.\n",
    "text = '¿Python3 o R?'\n",
    "\n",
    "# Mostramos el elemento 7 del texto, que no es mostrado en el slicing anterior.\n",
    "print(text[7])"
   ]
  },
  {
   "cell_type": "markdown",
   "metadata": {},
   "source": [
    "#### A continuación imprimir la palabra central del texto utilizando slicing."
   ]
  },
  {
   "cell_type": "code",
   "execution_count": null,
   "metadata": {},
   "outputs": [],
   "source": [
    "# Definimos un texto\n",
    "text_2 = 'Es un string'\n",
    "\n",
    "# seleccionar con slicing la palabra central\n",
    "text_2[3:5]"
   ]
  },
  {
   "cell_type": "markdown",
   "metadata": {},
   "source": [
    "**Concatenación**: conjuntos de caracteres pueden ser concatenados utilizando, como vimos, el operador de suma."
   ]
  },
  {
   "cell_type": "code",
   "execution_count": null,
   "metadata": {
    "collapsed": true
   },
   "outputs": [],
   "source": [
    "concatenacion = 'Texto de' + \"ejemplo\"\n",
    "print(concatenacion)"
   ]
  },
  {
   "cell_type": "markdown",
   "metadata": {},
   "source": [
    "Se puede observar que la operación:\n",
    "        * Junta ambos strings en uno solo más grande.\n",
    "        * No agrega espacios entre operandos.\n",
    "        * Conserva el orden de izquierda a derecha.\n"
   ]
  },
  {
   "cell_type": "markdown",
   "metadata": {},
   "source": [
    "**Nota** : Como habíamos mencionado, los tipos de datos traen operaciones asociadas, estas operaciones son conocidas como métodos, los métodos son un conjuntos de instrucciones asociados a los tipos de datos que pueden realizar cambios sobre éstos, u operaciones que resulten en la devolución de algún resultado en otro tipo de datos."
   ]
  },
  {
   "cell_type": "markdown",
   "metadata": {},
   "source": [
    "**isdigit**: Este método devuelve un tipo de dato booleano (verdadero o falso), es verdadero cuando el string asociado puede ser representado como un entero, y falso en otro caso. Este método podría servirnos para decidir si un string puede ser transformado en un número entero."
   ]
  },
  {
   "cell_type": "code",
   "execution_count": null,
   "metadata": {
    "collapsed": true
   },
   "outputs": [],
   "source": [
    "entero = '231' \n",
    "entero.isdigit()"
   ]
  },
  {
   "cell_type": "markdown",
   "metadata": {},
   "source": [
    "Como podemos observar, la llamada a los métodos viene precedida de dos paréntesis, la razón la vamos a comentar mas adelante, en definición de funciones."
   ]
  },
  {
   "cell_type": "code",
   "execution_count": null,
   "metadata": {
    "collapsed": true
   },
   "outputs": [],
   "source": [
    "no_entero = '3.14'\n",
    "no_entero.isdigit()"
   ]
  },
  {
   "cell_type": "markdown",
   "metadata": {},
   "source": [
    "**split**: Éste método asociado a strings sirve para separar un texto en subtextos más pequeños, el resultado de la separación es devuelto en una lista."
   ]
  },
  {
   "cell_type": "code",
   "execution_count": null,
   "metadata": {
    "collapsed": true,
    "scrolled": true
   },
   "outputs": [],
   "source": [
    "# Hacemos un llamado al split directamente desde un string\n",
    "'uno dos tres cuatro'.split()"
   ]
  },
  {
   "cell_type": "code",
   "execution_count": null,
   "metadata": {
    "collapsed": true
   },
   "outputs": [],
   "source": [
    "# Guardamos un string en una variable\n",
    "numeros = 'uno dos tres cuatro'\n",
    "\n",
    "#separamos el contenido de la variable con el método split\n",
    "numeros.split()"
   ]
  },
  {
   "cell_type": "markdown",
   "metadata": {},
   "source": [
    "## Propuesta  práctica:  \n",
    "\n",
    "\n",
    "A continuación vamos a ver parte de un código que, a partir de una lista de números aleatorios, devuelve otra lista con números pares."
   ]
  },
  {
   "cell_type": "code",
   "execution_count": null,
   "metadata": {
    "collapsed": true
   },
   "outputs": [],
   "source": [
    "# inicializamos una lista con números.\n",
    "lista_numeros = [2, 3, 1, 8, -2, 3.14259, -1, 0, 6, 7, 9]\n",
    "# inicializamos una lista vacía.\n",
    "lista_pares = []\n",
    "\n",
    "# recorremos la lista.\n",
    "for numero in lista_numeros:\n",
    "    #vemos si el numero de la lista es par.\n",
    "    if numero % 2 == 0:\n",
    "        # insertamos al final de la lista si es par\n",
    "        lista_pares.append(numero)\n",
    "    \n",
    "    elif numero < 0:\n",
    "        print(numero, 'negativo y no par')\n",
    "    \n",
    "    else:\n",
    "        print(numero, 'no cumple con ser par ni impar negativo')\n"
   ]
  },
  {
   "cell_type": "code",
   "execution_count": null,
   "metadata": {
    "collapsed": true
   },
   "outputs": [],
   "source": [
    "print(lista_pares)"
   ]
  },
  {
   "cell_type": "markdown",
   "metadata": {},
   "source": [
    "### Tipos y estructura de datos: Listas (list)."
   ]
  },
  {
   "cell_type": "markdown",
   "metadata": {},
   "source": [
    "Las listas son estructuras de datos muy utilizadas en python, en ellas podemos depositar una gran cantidad de datos: números, palabras, otras listas, etc.\n",
    "\n",
    "En nuestra propuesta práctica podemos ver que trabajamos con dos listas:\n",
    "\n",
    "``` python\n",
    "# inicializamos una lista con números.\n",
    "lista_numeros = [2, 3, 1, 8, -2, 3.14259, -1, 0, 6, 7, 9]\n",
    "# inicializamos una lista vacía.\n",
    "lista_pares = []\n",
    "```\n",
    "\n",
    "En la primera lista, decidimos definir a sus miembros como números, otros tipos de datos pueden ser contenidos en las listas. Además podemos observar que para definir una lista, no es necesario que tenga elementos, en lista_pares por ejemplo, se puede ver que está vacía.\n",
    "\n",
    "Una de las motivaciones para generar listas vacías, es la de poder ser llenada en función a los condicionales que vamos definir en nuestros programas."
   ]
  },
  {
   "cell_type": "markdown",
   "metadata": {
    "collapsed": true
   },
   "source": [
    "#### append\n",
    "El método append permite agregar un elemento al final de una lista, es importante señalar que el elemento persiste dentro de la lista una vez agregado por éste método."
   ]
  },
  {
   "cell_type": "code",
   "execution_count": null,
   "metadata": {
    "collapsed": true
   },
   "outputs": [],
   "source": [
    "# Inicializamos una lista vacía.\n",
    "lista_prueba = []\n",
    "\n",
    "# Imprimimos la lista para ver como es.\n",
    "print(lista_prueba)"
   ]
  },
  {
   "cell_type": "code",
   "execution_count": null,
   "metadata": {
    "collapsed": true
   },
   "outputs": [],
   "source": [
    "# Ahora agregamos un elemento a la lista con append.\n",
    "lista_prueba.append('soy un string')\n",
    "\n",
    "# Imprimos la lista\n",
    "print(lista_prueba)"
   ]
  },
  {
   "cell_type": "markdown",
   "metadata": {},
   "source": [
    "Podemos ver que lo agregado a la lista por el append fue indicado al poner ese elemento entre los paréntesis en el llamado al método. \n",
    "\n",
    "Lo que aparece entre paréntesis despúes del llamado al método se conoce como argumento, y en este caso, el argumento para el método append, **es el elemento que va a ingresar al final de la lista**."
   ]
  },
  {
   "cell_type": "code",
   "execution_count": null,
   "metadata": {
    "collapsed": true
   },
   "outputs": [],
   "source": [
    "# Agregamos otro elemento a la lista.\n",
    "lista_prueba.append(23)\n",
    "\n",
    "# Mostramos el estado de la lista hasta éste punto.\n",
    "lista_prueba"
   ]
  },
  {
   "cell_type": "markdown",
   "metadata": {},
   "source": [
    "A diferencia de otros lenguajes, en python una lista puede contener simultaneamente, varios tipos de datos."
   ]
  },
  {
   "cell_type": "markdown",
   "metadata": {},
   "source": [
    "###### Iteración \" for \":\n",
    "\n",
    "El poder de los programas se encuentra en la capacidad de realizar un conjunto de instrucciones repetidamente, al recorrido por una estructura o tipo de datos, lo llamamos \"iteración\". En nuestro ejemplo podemos ver una de estas iteraciones:\n",
    "``` python\n",
    "for numero in lista_numeros:\n",
    "```\n",
    "La sintaxis para utilizar el iterador \"for\" en nuestro ejemplo tiene básicamente 5 partes:\n",
    "\n",
    "         1) La llamada a \"for\".\n",
    "         2) La definicion de una variable que representa a cada elemento dentro de los miembros que recorremos.\n",
    "         3) La llamada a \"in\", que indica que es lo que vamos a recorrer.\n",
    "         4) La estructura o dato sobre la que vamos a iterar.\n",
    "         5) Los dos puntos que indican que empieza el cuerpo de instrucciones.\n",
    "\n",
    "A partir de acá, todo lo que se encuentre en dentro del ciclo va a ser repetido mientras se recorra la lista.\n",
    "``` python\n",
    "# recorremos la lista.\n",
    "for numero in lista_numeros:\n",
    "    #vemos si el numero de la lista es par.\n",
    "    if numero % 2 == 0:\n",
    "        # insertamos al final de la lista si es par\n",
    "        lista_pares.append(numero)\n",
    "```\n",
    "Es importante señalar que el uso de espacios tiene un significado para el intérprete de python, en nuestro ejemplo podemos notar que las instrucciones dentro del for tienen al menos 4 espacios antes de ser escritas, esto en python se llama indentación."
   ]
  },
  {
   "cell_type": "markdown",
   "metadata": {},
   "source": [
    "### Condicionales if, elif, else.\n",
    "\n",
    "El condicional **if** permite realizar un conjunto de posibles operaciones, a través de formular una pregunta en términos de expresiones que pueden resultar verdaderas o falsas, estas operaciones tienen por nombre operaciones **booleanas**.\n",
    "\n",
    "A continuación damos un par de ejemplos de las preguntas que resultan en un booleano:"
   ]
  },
  {
   "cell_type": "code",
   "execution_count": null,
   "metadata": {
    "collapsed": true
   },
   "outputs": [],
   "source": [
    "# es un número igual a otro numero?\n",
    "print(2 == 1)"
   ]
  },
  {
   "cell_type": "code",
   "execution_count": null,
   "metadata": {
    "collapsed": true
   },
   "outputs": [],
   "source": [
    "# Es un número mayor a otro número?\n",
    "print( 23 > -11 )"
   ]
  },
  {
   "cell_type": "code",
   "execution_count": null,
   "metadata": {
    "collapsed": true
   },
   "outputs": [],
   "source": [
    "# Es un tipo de dato igual a otro?\n",
    "isinstance([1,2,3], list)"
   ]
  },
  {
   "cell_type": "code",
   "execution_count": null,
   "metadata": {
    "collapsed": true,
    "scrolled": true
   },
   "outputs": [],
   "source": [
    "# El texto esta contenido en otro texto?\n",
    "'un' in 'tengo un texto aquí'"
   ]
  },
  {
   "cell_type": "markdown",
   "metadata": {},
   "source": [
    "Acabamos de ver un par de expresiones cuyo resultado es un booleano, estas expresiones pueden ser evaluadas por un conjunto de condicionales.\n",
    "\n",
    "### Condicional \" if \".\n",
    "\n",
    "Volviendo a nuestro ejemplo vamos a seleccionar los datos que se ajusten a algunas propiedades que pedimos, para eso utilizamos el condicional **if**, este condicional nos permite tomar una decisión con respecto a una condición dentro del programa, y puede ser enunciado de ésta forma:\n",
    "``` python\n",
    "if numero % 2 == 0:\n",
    "    # insertamos al final de la lista si es par\n",
    "    lista_pares.append(numero)\n",
    "    \n",
    "elif numero < 0:\n",
    "        print(numero, 'negativo y no par')\n",
    "    \n",
    "else:\n",
    "    print(numero, 'no cumple con ser par ni impar negativo')\n",
    "\n",
    "```\n",
    "La sintaxis para el **if** posee tres partes:\n",
    "           \n",
    "           1) La llamada al if.\n",
    "           2) Una condición (que puede ser verdadera o falsa).\n",
    "           3) Los dos puntos que indican que comienza el cuerpo de instrucciones.\n",
    "\n",
    "La condición puede tomar varias formas dependiendo de lo que busquemos, en nuestro programa, nosotros preguntamos: \n",
    "\n",
    "    la variable número: ¿deja un resto despúes de ser dividida por el número 2?\n",
    "\n",
    "Esta consulta la hacemos a través de una sentencia en python donde utilizamos la operación módulo **%** que nos indica si existe un resto en el cociente de dos numeros ordenados, y el operador **==** que indica si existe igualdad entre ambos lados.\n",
    "\n",
    "Si la igualdad **==** es verdadera, se da paso a la instrucción del cuerpo del **if**, mientras que, si la condición es falsa, se ignoran las instrucciones del **if**.\n",
    "\n",
    "Al igual que el **for**, el cuerpo del **if** se define como las instrucciones despues de los dos puntos, que estan a 4 espacios de la llamada al **if** (indentación). \n",
    "\n",
    "### Condicional \"elif\".\n",
    "\n",
    "Cuando el condicional **if** es evaluado a *False*, es posible evaluar otra condición encadenada al primer **if**, en el ejemplo usamos el condicional **elif**, cuyo cuerpo es ejecutado cuando el primer **if** fue evaluado a *False* y la sentencia enunciada despues del **elif** es *True*, o sea cuando el número no es par (**if** evaluado a *False*) y cuando el numero es menor a cero (**elif** evaluado a *True*).\n",
    "\n",
    "### Condicional \"else\".\n",
    "\n",
    "Cuando el condicional **if** es evaluado a *False*, y no existen condicionales **elif**, o éstos son todos evaluados a *False*, entonces se ejecuta el cuerpo del condicional **else**, si es que éste último es definido. En el ejemplo, cuando el número no es par (**if** evaluado a *False*), y cuando el número no es menor a cero (único **elif** evaluado a *False*).\n",
    "\n",
    "Ejemplo sintético:\n",
    "``` python\n",
    "if condicion_1 :\n",
    "    código a ejecutar si la condicion_1 es verdadera\n",
    "\n",
    "elif condicion_2:\n",
    "    código a ejecutar si la condicion_1 es falsa y la condicion_2 verdadera\n",
    "       \n",
    "else:\n",
    "    código a ejecutar si todas las condiciones anteriores son falsas\n",
    "\n",
    "```"
   ]
  },
  {
   "cell_type": "markdown",
   "metadata": {},
   "source": [
    "### Definiendo funciones:  def( ), return( ) .\n",
    "\n",
    "Las funciones son un conjunto de instrucciones que se ejecutan a través de un nombre o alias. La idea de la definición de funciones es separar el problema a resolver en partes más pequeñas.\n",
    "\n",
    "Para definir una función se deben seguir, al menos, los siguientes pasos:\n",
    "       \n",
    "       * Realizar una llamada a la instrucción **def**\n",
    "       * Enunciar el nombre de la función \n",
    "       * Escribir paréntesis\n",
    "       * Declarar, si es que existen, los argumentos dentro de los paréntesis, separados por comas.(optativo)\n",
    "       * Escribir dos puntos.\n",
    "       * Escribir el cuerpo de la función.\n",
    "       * Devolver un resultado con return (optativo).\n",
    "       \n",
    "A continuación un ejemplo de declaración de una función:\n",
    "\n",
    "``` python \n",
    "def mifuncion(argumento_1, argumento_2, ...):\n",
    "    \n",
    "    if argumento_1 > argumento_2:\n",
    "        \n",
    "        print(argumento_1, ' es mayor que ', argumento_2)\n",
    "    \n",
    "    else:\n",
    "        print(argumento_1, ' no es mayor que ', argumento_2)\n",
    "    \n",
    "    return(argumento_1 + argumento_2)\n",
    "\n",
    "```\n",
    "\n",
    "Los argumentos son variables que van a existir en el espacio de definición de una función.\n",
    "\n",
    "En este ejemplo podemos ver que los argumentos son evaluados por los condicionales if/else, y que finalmente es devuelta la suma de ambos argumentos.\n",
    "\n",
    "Si la expresión devuelta por el return es un tipo de datos válido, entonces se puede trabajar con este dato, veamos este ejemplo.\n",
    "\n",
    "### Definimos la función anterior:\n",
    "\n"
   ]
  },
  {
   "cell_type": "code",
   "execution_count": null,
   "metadata": {
    "collapsed": true
   },
   "outputs": [],
   "source": [
    "def mifuncion(argumento_1, argumento_2):\n",
    "\n",
    "    if argumento_1 > argumento_2:\n",
    "\n",
    "        print(argumento_1, 'es mayor que', argumento_2)\n",
    "\n",
    "    else:\n",
    "        \n",
    "        print(argumento_1, 'no es mayor que', argumento_2)\n",
    "\n",
    "    return(argumento_1 + argumento_2)"
   ]
  },
  {
   "cell_type": "markdown",
   "metadata": {},
   "source": [
    "Ahora la función se encuentra en el espacio de memoria bajo el nombre de *mifuncion*, para hacer un llamado a esta función, de manera tal que el código en su interior sea ejecutado, basta con enunciar su nombre y entregar entre paréntesis los argumentos en forma ordenada."
   ]
  },
  {
   "cell_type": "code",
   "execution_count": null,
   "metadata": {
    "collapsed": true
   },
   "outputs": [],
   "source": [
    "# Vamos a asignar a una variable, el valor de resultado de ésta función.\n",
    "variable_1 = mifuncion(3, 5)"
   ]
  },
  {
   "cell_type": "code",
   "execution_count": null,
   "metadata": {
    "collapsed": true
   },
   "outputs": [],
   "source": [
    "# Ahora veamos que es lo que quedo en la variable_1\n",
    "print(variable_1)"
   ]
  },
  {
   "cell_type": "markdown",
   "metadata": {},
   "source": [
    "Como podemos observar en la función hay llamadas al print, que imprimen dependiendo de la evaluación del if/else lo que le señalamos en cada cuerpo condicional, sin embargo el valor que se captura para operar es el que devuelve la instrucción **return**."
   ]
  },
  {
   "cell_type": "markdown",
   "metadata": {},
   "source": [
    "**¿Qué hace el siguiente código?**"
   ]
  },
  {
   "cell_type": "code",
   "execution_count": null,
   "metadata": {
    "collapsed": true
   },
   "outputs": [],
   "source": [
    "lista_de_numeros = [-1,-51, -4 ,42, 23,4,5,6,72,4,5]"
   ]
  },
  {
   "cell_type": "code",
   "execution_count": null,
   "metadata": {},
   "outputs": [],
   "source": [
    "sumas = []\n",
    "\n",
    "for numero in lista_de_numeros:\n",
    "    \n",
    "    sumas.append( mifuncion(8, numero + 3) )\n",
    "    "
   ]
  },
  {
   "cell_type": "code",
   "execution_count": null,
   "metadata": {},
   "outputs": [],
   "source": [
    "sumas"
   ]
  },
  {
   "cell_type": "markdown",
   "metadata": {},
   "source": [
    "#### ¿Y el siguiente?"
   ]
  },
  {
   "cell_type": "code",
   "execution_count": null,
   "metadata": {
    "collapsed": true
   },
   "outputs": [],
   "source": [
    "sumas = []\n",
    "\n",
    "for numero in lista_de_numeros:\n",
    "    if mifuncion(numero, 3) < numero:\n",
    "        sumas.append(numero)\n",
    "    \n",
    "    else:\n",
    "        sumas.append( mifuncion(numero, 2) ** mifuncion(mifuncion(numero, -31), 3) )"
   ]
  },
  {
   "cell_type": "code",
   "execution_count": null,
   "metadata": {
    "collapsed": true
   },
   "outputs": [],
   "source": [
    "print(sumas)"
   ]
  },
  {
   "cell_type": "code",
   "execution_count": null,
   "metadata": {
    "collapsed": true
   },
   "outputs": [],
   "source": []
  }
 ],
 "metadata": {
  "kernelspec": {
   "display_name": "Python 3",
   "language": "python",
   "name": "python3"
  },
  "language_info": {
   "codemirror_mode": {
    "name": "ipython",
    "version": 3
   },
   "file_extension": ".py",
   "mimetype": "text/x-python",
   "name": "python",
   "nbconvert_exporter": "python",
   "pygments_lexer": "ipython3",
   "version": "3.6.3"
  }
 },
 "nbformat": 4,
 "nbformat_minor": 2
}
